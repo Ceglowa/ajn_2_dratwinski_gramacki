{
 "cells": [
  {
   "cell_type": "code",
   "execution_count": 17,
   "metadata": {
    "collapsed": true
   },
   "outputs": [],
   "source": [
    "import pandas as pd"
   ]
  },
  {
   "cell_type": "code",
   "execution_count": 18,
   "outputs": [],
   "source": [
    "embeddings = pd.read_csv('results/emneddings_results.csv')\n",
    "wordnet = pd.read_csv('results/results_wordnet.csv')"
   ],
   "metadata": {
    "collapsed": false,
    "pycharm": {
     "name": "#%%\n"
    }
   }
  },
  {
   "cell_type": "code",
   "execution_count": 22,
   "outputs": [],
   "source": [
    "full_results = embeddings.join(wordnet, rsuffix='_x')\n",
    "full_results = full_results[full_results.columns.drop(\n",
    "    list(full_results.filter(regex='_x')) + ['nr'])]"
   ],
   "metadata": {
    "collapsed": false,
    "pycharm": {
     "name": "#%%\n"
    }
   }
  },
  {
   "cell_type": "code",
   "execution_count": 34,
   "outputs": [
    {
     "name": "stdout",
     "output_type": "stream",
     "text": [
      "            word1         word2  similarity  relatedness  euclidean_metric  \\\n",
      "0           stary          nowy        0.43         7.29          0.527876   \n",
      "1          bystry  inteligentny        8.86         9.71          0.307401   \n",
      "2          ciężki        trudny        4.86         7.29          0.458334   \n",
      "3      szczęśliwy       radosny        8.14         8.86          0.508105   \n",
      "4           łatwy       męczący        0.43         6.43          0.488402   \n",
      "..            ...           ...         ...          ...               ...   \n",
      "994      dołączyć        zdobyć        0.43         2.29          0.379451   \n",
      "995       wysyłać  uczestniczyć        0.00         0.86          0.332312   \n",
      "996       zbierać  uczestniczyć        0.00         0.71          0.246016   \n",
      "997     pochłonąć       wycofać        0.00         0.57          0.230120   \n",
      "998  uczestniczyć       przybyć        0.57         3.43          0.421376   \n",
      "\n",
      "     cosine_metric  wu_palmer  leacock_chodorow  \n",
      "0         7.637439   0.333333          1.204120  \n",
      "1         6.444269   0.750000          1.505150  \n",
      "2         7.287328   0.285714          1.107210  \n",
      "3         7.540361   0.250000          1.028029  \n",
      "4         7.441672   0.181818          1.028029  \n",
      "..             ...        ...               ...  \n",
      "994       6.860927   0.166667          1.107210  \n",
      "995       6.591264   0.200000          1.204120  \n",
      "996       6.068808   0.200000          1.329059  \n",
      "997       5.968514   0.117647          0.961082  \n",
      "998       7.091428   0.200000          0.961082  \n",
      "\n",
      "[999 rows x 8 columns]\n"
     ]
    }
   ],
   "source": [
    "print(full_results)"
   ],
   "metadata": {
    "collapsed": false,
    "pycharm": {
     "name": "#%%\n"
    }
   }
  },
  {
   "cell_type": "code",
   "execution_count": 31,
   "outputs": [],
   "source": [
    "full_results.to_csv('results/full_results.csv')"
   ],
   "metadata": {
    "collapsed": false,
    "pycharm": {
     "name": "#%%\n"
    }
   }
  },
  {
   "cell_type": "code",
   "execution_count": 30,
   "outputs": [
    {
     "name": "stdout",
     "output_type": "stream",
     "text": [
      "|             |   euclidean_metric |   cosine_metric |   wu_palmer |   leacock_chodorow |\n",
      "|:------------|-------------------:|----------------:|------------:|-------------------:|\n",
      "| similarity  |           0.370449 |        0.39001  |    0.358705 |           0.436089 |\n",
      "| relatedness |           0.599525 |        0.627853 |    0.37754  |           0.355072 |\n"
     ]
    }
   ],
   "source": [
    "print(full_results.corr().iloc[:2, 2:].to_markdown())"
   ],
   "metadata": {
    "collapsed": false,
    "pycharm": {
     "name": "#%%\n"
    }
   }
  },
  {
   "cell_type": "code",
   "execution_count": 42,
   "outputs": [
    {
     "name": "stdout",
     "output_type": "stream",
     "text": [
      "|             |   cosine_metric |\n",
      "|:------------|----------------:|\n",
      "| similarity  |         4.61717 |\n",
      "| relatedness |         1.74491 |\n"
     ]
    }
   ],
   "source": [
    "from_cols = ['similarity', 'relatedness']\n",
    "to_cols = ['euclidean_metric', 'cosine_metric', 'wu_palmer', 'leacock_chodorow']\n",
    "\n",
    "full_diff = {}\n",
    "\n",
    "for from_col in from_cols:\n",
    "    full_diff[from_col] = []\n",
    "    for to_col in to_cols:\n",
    "        diff = full_results[from_col] - full_results[to_col]\n",
    "        full_diff[from_col].append(diff.abs().mean())\n",
    "\n",
    "full_diff_df = pd.DataFrame.from_dict(full_diff, orient='index', columns=to_cols)\n",
    "\n",
    "print(full_diff_df.iloc[:, 1].to_markdown())"
   ],
   "metadata": {
    "collapsed": false,
    "pycharm": {
     "name": "#%%\n"
    }
   }
  }
 ],
 "metadata": {
  "kernelspec": {
   "display_name": "Python 3",
   "language": "python",
   "name": "python3"
  },
  "language_info": {
   "codemirror_mode": {
    "name": "ipython",
    "version": 2
   },
   "file_extension": ".py",
   "mimetype": "text/x-python",
   "name": "python",
   "nbconvert_exporter": "python",
   "pygments_lexer": "ipython2",
   "version": "2.7.6"
  }
 },
 "nbformat": 4,
 "nbformat_minor": 0
}